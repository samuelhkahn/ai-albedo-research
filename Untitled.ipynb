{
 "cells": [
  {
   "cell_type": "code",
   "execution_count": 2,
   "id": "7c1486ea",
   "metadata": {},
   "outputs": [
    {
     "name": "stderr",
     "output_type": "stream",
     "text": [
      "Importing plotly failed. Interactive plots will not work.\n"
     ]
    }
   ],
   "source": [
    "import netCDF4\n",
    "import numpy as np\n",
    "import pandas as pd\n",
    "import os\n",
    "import xarray as xr\n",
    "from fbprophet.utilities import regressor_coefficients\n",
    "import pandas as pd\n",
    "from fbprophet import Prophet\n",
    "f_avg = \"CERES_EBAF-TOA_Ed4.1_Subset_200003-202203.nc\"\n",
    "f_lat_lon = \"CERES_EBAF-TOA_Ed4.1_Subset_200003-202203-lat-lon.nc\"\n",
    "\n",
    "f_names = [f_avg,f_lat_lon]\n",
    "def load_netcdf(f_path:str)-> pd.DataFrame:\n",
    "    ds = xr.open_dataset(f_path)\n",
    "    df = ds.to_dataframe()\n",
    "    \n",
    "    return df\n",
    "dfs = [load_netcdf(os.path.join(\"../data\",f_name)) for f_name in f_names]"
   ]
  },
  {
   "cell_type": "code",
   "execution_count": 4,
   "id": "6f3de034",
   "metadata": {},
   "outputs": [
    {
     "data": {
      "text/plain": [
       "268.15784"
      ]
     },
     "execution_count": 4,
     "metadata": {},
     "output_type": "execute_result"
    }
   ],
   "source": []
  },
  {
   "cell_type": "code",
   "execution_count": null,
   "id": "86036c83",
   "metadata": {},
   "outputs": [],
   "source": []
  }
 ],
 "metadata": {
  "kernelspec": {
   "display_name": "climate-ai",
   "language": "python",
   "name": "climate-ai"
  },
  "language_info": {
   "codemirror_mode": {
    "name": "ipython",
    "version": 3
   },
   "file_extension": ".py",
   "mimetype": "text/x-python",
   "name": "python",
   "nbconvert_exporter": "python",
   "pygments_lexer": "ipython3",
   "version": "3.9.7"
  }
 },
 "nbformat": 4,
 "nbformat_minor": 5
}
